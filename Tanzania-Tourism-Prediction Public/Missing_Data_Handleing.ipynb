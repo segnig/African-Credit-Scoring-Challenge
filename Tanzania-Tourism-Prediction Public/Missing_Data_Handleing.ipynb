{
  "metadata": {
    "kernelspec": {
      "language": "python",
      "display_name": "Python 3",
      "name": "python3"
    },
    "language_info": {
      "name": "python",
      "version": "3.10.14",
      "mimetype": "text/x-python",
      "codemirror_mode": {
        "name": "ipython",
        "version": 3
      },
      "pygments_lexer": "ipython3",
      "nbconvert_exporter": "python",
      "file_extension": ".py"
    },
    "kaggle": {
      "accelerator": "none",
      "dataSources": [
        {
          "sourceId": 7632201,
          "sourceType": "datasetVersion",
          "datasetId": 4447231
        }
      ],
      "dockerImageVersionId": 30804,
      "isInternetEnabled": true,
      "language": "python",
      "sourceType": "notebook",
      "isGpuEnabled": false
    },
    "colab": {
      "name": "Missing Data Handleing",
      "provenance": [],
      "include_colab_link": true
    }
  },
  "nbformat_minor": 0,
  "nbformat": 4,
  "cells": [
    {
      "cell_type": "markdown",
      "metadata": {
        "id": "view-in-github",
        "colab_type": "text"
      },
      "source": [
        "<a href=\"https://colab.research.google.com/github/segnig/African-Credit-Scoring-Challenge/blob/main/Tanzania-Tourism-Prediction%20Public/Missing_Data_Handleing.ipynb\" target=\"_parent\"><img src=\"https://colab.research.google.com/assets/colab-badge.svg\" alt=\"Open In Colab\"/></a>"
      ]
    },
    {
      "source": [
        "# IMPORTANT: RUN THIS CELL IN ORDER TO IMPORT YOUR KAGGLE DATA SOURCES,\n",
        "# THEN FEEL FREE TO DELETE THIS CELL.\n",
        "# NOTE: THIS NOTEBOOK ENVIRONMENT DIFFERS FROM KAGGLE'S PYTHON\n",
        "# ENVIRONMENT SO THERE MAY BE MISSING LIBRARIES USED BY YOUR\n",
        "# NOTEBOOK.\n",
        "import kagglehub\n",
        "alfredkondoro_tanzania_tourism_prediction_zindi_africa_path = kagglehub.dataset_download('alfredkondoro/tanzania-tourism-prediction-zindi-africa')\n",
        "\n",
        "print('Data source import complete.')\n"
      ],
      "metadata": {
        "id": "JjlSIkVEBxio",
        "outputId": "4f541255-1da6-401a-9747-290d571bf55a",
        "colab": {
          "base_uri": "https://localhost:8080/"
        }
      },
      "cell_type": "code",
      "outputs": [
        {
          "output_type": "stream",
          "name": "stdout",
          "text": [
            "Downloading from https://www.kaggle.com/api/v1/datasets/download/alfredkondoro/tanzania-tourism-prediction-zindi-africa?dataset_version_number=1...\n"
          ]
        },
        {
          "output_type": "stream",
          "name": "stderr",
          "text": [
            "100%|██████████| 120k/120k [00:00<00:00, 416kB/s]"
          ]
        },
        {
          "output_type": "stream",
          "name": "stdout",
          "text": [
            "Extracting files...\n",
            "Data source import complete.\n"
          ]
        },
        {
          "output_type": "stream",
          "name": "stderr",
          "text": [
            "\n"
          ]
        }
      ],
      "execution_count": 2
    },
    {
      "cell_type": "code",
      "source": [
        "!pip -q --disable-pip-version-check install mplcyberpunk"
      ],
      "metadata": {
        "trusted": true,
        "execution": {
          "iopub.status.busy": "2024-12-13T08:18:07.768367Z",
          "iopub.execute_input": "2024-12-13T08:18:07.76876Z",
          "iopub.status.idle": "2024-12-13T08:18:18.989933Z",
          "shell.execute_reply.started": "2024-12-13T08:18:07.768725Z",
          "shell.execute_reply": "2024-12-13T08:18:18.988459Z"
        },
        "id": "d22VJxEPBxiq"
      },
      "outputs": [],
      "execution_count": 3
    },
    {
      "cell_type": "code",
      "source": [
        "import numpy as np\n",
        "import pandas as pd\n",
        "\n",
        "from catboost import CatBoostRegressor, Pool\n",
        "from xgboost import XGBRegressor\n",
        "from sklearn.metrics import mean_squared_error\n",
        "from sklearn.metrics import mean_absolute_error\n",
        "from sklearn.model_selection import train_test_split\n",
        "\n",
        "import matplotlib.pyplot as plt\n",
        "import seaborn as sns\n",
        "\n",
        "import mplcyberpunk\n",
        "plt.style.use('cyberpunk')\n",
        "from termcolor import colored"
      ],
      "metadata": {
        "_uuid": "8f2839f25d086af736a60e9eeb907d3b93b6e0e5",
        "_cell_guid": "b1076dfc-b9ad-4769-8c92-a6c4dae69d19",
        "trusted": true,
        "execution": {
          "iopub.status.busy": "2024-12-13T08:25:55.996688Z",
          "iopub.execute_input": "2024-12-13T08:25:55.997098Z",
          "iopub.status.idle": "2024-12-13T08:25:56.003211Z",
          "shell.execute_reply.started": "2024-12-13T08:25:55.997067Z",
          "shell.execute_reply": "2024-12-13T08:25:56.002166Z"
        },
        "id": "K5MnJi3JBxir"
      },
      "outputs": [],
      "execution_count": 29
    },
    {
      "cell_type": "code",
      "source": [
        "PATH = \"/content/drive/MyDrive/Data Science/Tanzania Tourism Prediction/\""
      ],
      "metadata": {
        "trusted": true,
        "execution": {
          "iopub.status.busy": "2024-12-13T08:18:27.837452Z",
          "iopub.execute_input": "2024-12-13T08:18:27.837985Z",
          "iopub.status.idle": "2024-12-13T08:18:27.843031Z",
          "shell.execute_reply.started": "2024-12-13T08:18:27.837944Z",
          "shell.execute_reply": "2024-12-13T08:18:27.841768Z"
        },
        "id": "sWsBbY-IBxir"
      },
      "outputs": [],
      "execution_count": 30
    },
    {
      "cell_type": "code",
      "source": [
        "train = pd.read_csv(PATH+\"Train.csv\")\n",
        "test = pd.read_csv(PATH+\"Test.csv\")\n",
        "ss = pd.read_csv(PATH+\"SampleSubmission.csv\")\n",
        "vd = pd.read_csv(PATH+\"VariableDefinitions.csv\")"
      ],
      "metadata": {
        "trusted": true,
        "execution": {
          "iopub.status.busy": "2024-12-13T08:18:29.156692Z",
          "iopub.execute_input": "2024-12-13T08:18:29.157051Z",
          "iopub.status.idle": "2024-12-13T08:18:29.209593Z",
          "shell.execute_reply.started": "2024-12-13T08:18:29.15702Z",
          "shell.execute_reply": "2024-12-13T08:18:29.208578Z"
        },
        "id": "PBufQ8U6Bxis"
      },
      "outputs": [],
      "execution_count": 31
    },
    {
      "cell_type": "code",
      "source": [
        "train.columns"
      ],
      "metadata": {
        "id": "D7VzyeSlYln5",
        "outputId": "b1872b9e-3b85-43bc-8884-31081aac268e",
        "colab": {
          "base_uri": "https://localhost:8080/"
        }
      },
      "execution_count": 32,
      "outputs": [
        {
          "output_type": "execute_result",
          "data": {
            "text/plain": [
              "Index(['ID', 'country', 'age_group', 'travel_with', 'total_female',\n",
              "       'total_male', 'purpose', 'main_activity', 'info_source',\n",
              "       'tour_arrangement', 'package_transport_int', 'package_accomodation',\n",
              "       'package_food', 'package_transport_tz', 'package_sightseeing',\n",
              "       'package_guided_tour', 'package_insurance', 'night_mainland',\n",
              "       'night_zanzibar', 'payment_mode', 'first_trip_tz', 'most_impressing',\n",
              "       'total_cost'],\n",
              "      dtype='object')"
            ]
          },
          "metadata": {},
          "execution_count": 32
        }
      ]
    },
    {
      "cell_type": "code",
      "source": [
        "train_test_data = [train, test]"
      ],
      "metadata": {
        "id": "FHvQ01r1Ywm8"
      },
      "execution_count": 34,
      "outputs": []
    },
    {
      "cell_type": "code",
      "source": [
        "for df in train_test_data:\n",
        "    print(\"MISSING COUNT\",\n",
        "        df.isnull().sum(),\n",
        "        sep=\"\\n\"\n",
        "    )"
      ],
      "metadata": {
        "id": "hqv1JuIAaCxG",
        "outputId": "3a67e88e-9876-4446-e480-9f273c127672",
        "colab": {
          "base_uri": "https://localhost:8080/"
        }
      },
      "execution_count": 35,
      "outputs": [
        {
          "output_type": "stream",
          "name": "stdout",
          "text": [
            "MISSING COUNT\n",
            "ID                          0\n",
            "country                     0\n",
            "age_group                   0\n",
            "travel_with              1114\n",
            "total_female                3\n",
            "total_male                  5\n",
            "purpose                     0\n",
            "main_activity               0\n",
            "info_source                 0\n",
            "tour_arrangement            0\n",
            "package_transport_int       0\n",
            "package_accomodation        0\n",
            "package_food                0\n",
            "package_transport_tz        0\n",
            "package_sightseeing         0\n",
            "package_guided_tour         0\n",
            "package_insurance           0\n",
            "night_mainland              0\n",
            "night_zanzibar              0\n",
            "payment_mode                0\n",
            "first_trip_tz               0\n",
            "most_impressing           313\n",
            "total_cost                  0\n",
            "dtype: int64\n",
            "MISSING COUNT\n",
            "ID                         0\n",
            "country                    0\n",
            "age_group                  0\n",
            "travel_with              327\n",
            "total_female               1\n",
            "total_male                 2\n",
            "purpose                    0\n",
            "main_activity              0\n",
            "info_source                0\n",
            "tour_arrangement           0\n",
            "package_transport_int      0\n",
            "package_accomodation       0\n",
            "package_food               0\n",
            "package_transport_tz       0\n",
            "package_sightseeing        0\n",
            "package_guided_tour        0\n",
            "package_insurance          0\n",
            "night_mainland             0\n",
            "night_zanzibar             0\n",
            "payment_mode               0\n",
            "first_trip_tz              0\n",
            "most_impressing          111\n",
            "dtype: int64\n"
          ]
        }
      ]
    },
    {
      "cell_type": "code",
      "source": [
        "for df in train_test_data:\n",
        "    print(\"UNIQUE COUNT\",\n",
        "        df.nunique(),\n",
        "        sep=\"\\n\"\n",
        "    )"
      ],
      "metadata": {
        "id": "I30cr_-Uahma",
        "outputId": "e3f546b0-001d-406c-d573-6cd443e3da94",
        "colab": {
          "base_uri": "https://localhost:8080/"
        }
      },
      "execution_count": 36,
      "outputs": [
        {
          "output_type": "stream",
          "name": "stdout",
          "text": [
            "UNIQUE COUNT\n",
            "ID                       4809\n",
            "country                   105\n",
            "age_group                   4\n",
            "travel_with                 5\n",
            "total_female               14\n",
            "total_male                 14\n",
            "purpose                     7\n",
            "main_activity               9\n",
            "info_source                 8\n",
            "tour_arrangement            2\n",
            "package_transport_int       2\n",
            "package_accomodation        2\n",
            "package_food                2\n",
            "package_transport_tz        2\n",
            "package_sightseeing         2\n",
            "package_guided_tour         2\n",
            "package_insurance           2\n",
            "night_mainland             64\n",
            "night_zanzibar             34\n",
            "payment_mode                4\n",
            "first_trip_tz               2\n",
            "most_impressing             7\n",
            "total_cost               1637\n",
            "dtype: int64\n",
            "UNIQUE COUNT\n",
            "ID                       1601\n",
            "country                    87\n",
            "age_group                   4\n",
            "travel_with                 5\n",
            "total_female               13\n",
            "total_male                 10\n",
            "purpose                     7\n",
            "main_activity               9\n",
            "info_source                 8\n",
            "tour_arrangement            2\n",
            "package_transport_int       2\n",
            "package_accomodation        2\n",
            "package_food                2\n",
            "package_transport_tz        2\n",
            "package_sightseeing         2\n",
            "package_guided_tour         2\n",
            "package_insurance           2\n",
            "night_mainland             51\n",
            "night_zanzibar             25\n",
            "payment_mode                4\n",
            "first_trip_tz               2\n",
            "most_impressing             7\n",
            "dtype: int64\n"
          ]
        }
      ]
    },
    {
      "cell_type": "code",
      "source": [
        "# categorical features\n",
        "\n",
        "categorical_features = [\n",
        "    col for col in train.columns if train[col].dtype == 'object'\n",
        "]\n",
        "\n",
        "categorical_features"
      ],
      "metadata": {
        "id": "CN_XgGdCahi8",
        "outputId": "bdbe42ff-dea4-453b-ce79-d103629c0535",
        "colab": {
          "base_uri": "https://localhost:8080/"
        }
      },
      "execution_count": 37,
      "outputs": [
        {
          "output_type": "execute_result",
          "data": {
            "text/plain": [
              "['ID',\n",
              " 'country',\n",
              " 'age_group',\n",
              " 'travel_with',\n",
              " 'purpose',\n",
              " 'main_activity',\n",
              " 'info_source',\n",
              " 'tour_arrangement',\n",
              " 'package_transport_int',\n",
              " 'package_accomodation',\n",
              " 'package_food',\n",
              " 'package_transport_tz',\n",
              " 'package_sightseeing',\n",
              " 'package_guided_tour',\n",
              " 'package_insurance',\n",
              " 'payment_mode',\n",
              " 'first_trip_tz',\n",
              " 'most_impressing']"
            ]
          },
          "metadata": {},
          "execution_count": 37
        }
      ]
    },
    {
      "cell_type": "code",
      "source": [],
      "metadata": {
        "id": "JARKUNO4ahgc"
      },
      "execution_count": null,
      "outputs": []
    },
    {
      "cell_type": "code",
      "source": [],
      "metadata": {
        "id": "s0nVPMHsahdf"
      },
      "execution_count": null,
      "outputs": []
    },
    {
      "cell_type": "code",
      "source": [
        "na = pd.DataFrame(train.isna().sum(), columns=['Missing Values'])\n",
        "na = na[na['Missing Values'] > 0]\n",
        "plt.figure(figsize=(20, 6))\n",
        "sns.barplot(y=na['Missing Values'], x=na.index)\n",
        "plt.title('Missing Values Distribution', size=20, weight='bold')\n",
        "plt.xticks(rotation=45, ha='right')\n",
        "\n",
        "print(colored(\"Missing values column-wise:\", 'magenta'))\n",
        "print(colored(na['Missing Values'], 'magenta'))\n",
        "\n",
        "plt.show()"
      ],
      "metadata": {
        "trusted": true,
        "execution": {
          "iopub.status.busy": "2024-12-13T08:18:33.61781Z",
          "iopub.execute_input": "2024-12-13T08:18:33.618205Z",
          "iopub.status.idle": "2024-12-13T08:18:33.946083Z",
          "shell.execute_reply.started": "2024-12-13T08:18:33.618168Z",
          "shell.execute_reply": "2024-12-13T08:18:33.945099Z"
        },
        "id": "QAe6giZkBxis",
        "outputId": "9f27d8eb-b5a4-4d9d-b47c-fd044169daa6",
        "colab": {
          "base_uri": "https://localhost:8080/",
          "height": 545
        }
      },
      "outputs": [
        {
          "output_type": "stream",
          "name": "stdout",
          "text": [
            "Missing values column-wise:\n",
            "travel_with        1114\n",
            "total_female          3\n",
            "total_male            5\n",
            "most_impressing     313\n",
            "Name: Missing Values, dtype: int64\n"
          ]
        },
        {
          "output_type": "display_data",
          "data": {
            "text/plain": [
              "<Figure size 2000x600 with 1 Axes>"
            ],
            "image/png": "[encoded data removed]"
          },
          "metadata": {}
        }
      ],
      "execution_count": 16
    },
    {
      "cell_type": "code",
      "source": [
        "train[\"most_impressing\"]"
      ],
      "metadata": {
        "trusted": true,
        "id": "3m7s3iF2Bxit",
        "outputId": "fd2d93c5-ed97-4430-fc46-2bc24a282f3b",
        "colab": {
          "base_uri": "https://localhost:8080/",
          "height": 458
        }
      },
      "outputs": [
        {
          "output_type": "execute_result",
          "data": {
            "text/plain": [
              "0                            Friendly People\n",
              "1       Wonderful Country, Landscape, Nature\n",
              "2                       Excellent Experience\n",
              "3                            Friendly People\n",
              "4                                No comments\n",
              "                        ...                 \n",
              "4804                             No comments\n",
              "4805                         Friendly People\n",
              "4806                            Good service\n",
              "4807                         Friendly People\n",
              "4808                         Friendly People\n",
              "Name: most_impressing, Length: 4809, dtype: object"
            ],
            "text/html": [
              "<div>\n",
              "<style scoped>\n",
              "    .dataframe tbody tr th:only-of-type {\n",
              "        vertical-align: middle;\n",
              "    }\n",
              "\n",
              "    .dataframe tbody tr th {\n",
              "        vertical-align: top;\n",
              "    }\n",
              "\n",
              "    .dataframe thead th {\n",
              "        text-align: right;\n",
              "    }\n",
              "</style>\n",
              "<table border=\"1\" class=\"dataframe\">\n",
              "  <thead>\n",
              "    <tr style=\"text-align: right;\">\n",
              "      <th></th>\n",
              "      <th>most_impressing</th>\n",
              "    </tr>\n",
              "  </thead>\n",
              "  <tbody>\n",
              "    <tr>\n",
              "      <th>0</th>\n",
              "      <td>Friendly People</td>\n",
              "    </tr>\n",
              "    <tr>\n",
              "      <th>1</th>\n",
              "      <td>Wonderful Country, Landscape, Nature</td>\n",
              "    </tr>\n",
              "    <tr>\n",
              "      <th>2</th>\n",
              "      <td>Excellent Experience</td>\n",
              "    </tr>\n",
              "    <tr>\n",
              "      <th>3</th>\n",
              "      <td>Friendly People</td>\n",
              "    </tr>\n",
              "    <tr>\n",
              "      <th>4</th>\n",
              "      <td>No comments</td>\n",
              "    </tr>\n",
              "    <tr>\n",
              "      <th>...</th>\n",
              "      <td>...</td>\n",
              "    </tr>\n",
              "    <tr>\n",
              "      <th>4804</th>\n",
              "      <td>No comments</td>\n",
              "    </tr>\n",
              "    <tr>\n",
              "      <th>4805</th>\n",
              "      <td>Friendly People</td>\n",
              "    </tr>\n",
              "    <tr>\n",
              "      <th>4806</th>\n",
              "      <td>Good service</td>\n",
              "    </tr>\n",
              "    <tr>\n",
              "      <th>4807</th>\n",
              "      <td>Friendly People</td>\n",
              "    </tr>\n",
              "    <tr>\n",
              "      <th>4808</th>\n",
              "      <td>Friendly People</td>\n",
              "    </tr>\n",
              "  </tbody>\n",
              "</table>\n",
              "<p>4809 rows × 1 columns</p>\n",
              "</div><br><label><b>dtype:</b> object</label>"
            ]
          },
          "metadata": {},
          "execution_count": 17
        }
      ],
      "execution_count": 17
    },
    {
      "cell_type": "code",
      "source": [
        "fe = []; cat_fe = []; no_fe = []\n",
        "for i in train.columns[1:]:\n",
        "  if train[i].isnull().sum() < 2000:\n",
        "    fe.append(i)\n",
        "    if train[i].dtype == 'O':\n",
        "      cat_fe.append(i)\n",
        "      print(\"There are \"+ str(len(train[i].value_counts())) + \" in \" + str(i))\n",
        "  else:\n",
        "    no_fe.append(i)\n",
        "\n",
        "print ('----------------------------------')\n",
        "print(str(len(fe)))\n",
        "print(str(len(cat_fe)))\n",
        "print(str(len(no_fe)))"
      ],
      "metadata": {
        "trusted": true,
        "execution": {
          "iopub.status.busy": "2024-12-13T08:14:41.749294Z",
          "iopub.execute_input": "2024-12-13T08:14:41.74977Z",
          "iopub.status.idle": "2024-12-13T08:14:41.784593Z",
          "shell.execute_reply.started": "2024-12-13T08:14:41.749736Z",
          "shell.execute_reply": "2024-12-13T08:14:41.783636Z"
        },
        "id": "c4TrUFa0Bxit",
        "outputId": "8d2ff6b1-eaa3-4551-847e-d2b4df0dacab",
        "colab": {
          "base_uri": "https://localhost:8080/"
        }
      },
      "outputs": [
        {
          "output_type": "stream",
          "name": "stdout",
          "text": [
            "There are 105 in country\n",
            "There are 4 in age_group\n",
            "There are 5 in travel_with\n",
            "There are 7 in purpose\n",
            "There are 9 in main_activity\n",
            "There are 8 in info_source\n",
            "There are 2 in tour_arrangement\n",
            "There are 2 in package_transport_int\n",
            "There are 2 in package_accomodation\n",
            "There are 2 in package_food\n",
            "There are 2 in package_transport_tz\n",
            "There are 2 in package_sightseeing\n",
            "There are 2 in package_guided_tour\n",
            "There are 2 in package_insurance\n",
            "There are 4 in payment_mode\n",
            "There are 2 in first_trip_tz\n",
            "There are 7 in most_impressing\n",
            "----------------------------------\n",
            "22\n",
            "17\n",
            "0\n"
          ]
        }
      ],
      "execution_count": 18
    },
    {
      "cell_type": "code",
      "source": [
        "x = train.drop(columns=['total_cost', 'ID'])\n",
        "y = train['total_cost']\n",
        "x = x.fillna('')"
      ],
      "metadata": {
        "trusted": true,
        "execution": {
          "iopub.status.busy": "2024-12-13T08:19:58.869899Z",
          "iopub.execute_input": "2024-12-13T08:19:58.870346Z",
          "iopub.status.idle": "2024-12-13T08:19:58.887751Z",
          "shell.execute_reply.started": "2024-12-13T08:19:58.870309Z",
          "shell.execute_reply": "2024-12-13T08:19:58.886802Z"
        },
        "id": "uVTtJ-2HBxiu"
      },
      "outputs": [],
      "execution_count": 19
    },
    {
      "cell_type": "code",
      "source": [
        "X_train, X_test, y_train, y_test = train_test_split(x, y, test_size = 0.18, random_state = 3, shuffle = True)"
      ],
      "metadata": {
        "trusted": true,
        "execution": {
          "iopub.status.busy": "2024-12-13T08:20:02.657396Z",
          "iopub.execute_input": "2024-12-13T08:20:02.657782Z",
          "iopub.status.idle": "2024-12-13T08:20:02.66742Z",
          "shell.execute_reply.started": "2024-12-13T08:20:02.657749Z",
          "shell.execute_reply": "2024-12-13T08:20:02.666539Z"
        },
        "id": "jsbzZPfwBxiu"
      },
      "outputs": [],
      "execution_count": 20
    },
    {
      "cell_type": "code",
      "source": [
        "train_dataset = Pool(data = X_train, label = y_train, cat_features=cat_fe)\n",
        "test_dataset = Pool(data = X_test, label = y_test, cat_features=cat_fe)"
      ],
      "metadata": {
        "trusted": true,
        "execution": {
          "iopub.status.busy": "2024-12-13T08:20:04.974796Z",
          "iopub.execute_input": "2024-12-13T08:20:04.97517Z",
          "iopub.status.idle": "2024-12-13T08:20:05.014077Z",
          "shell.execute_reply.started": "2024-12-13T08:20:04.975137Z",
          "shell.execute_reply": "2024-12-13T08:20:05.01301Z"
        },
        "id": "Fo-SdatSBxiu"
      },
      "outputs": [],
      "execution_count": 21
    },
    {
      "cell_type": "code",
      "source": [
        "cmod = CatBoostRegressor(iterations = 30000,\n",
        "                                   learning_rate=0.01,\n",
        "                                  random_seed = 3, verbose = 300)\n",
        "cmod.fit(train_dataset, eval_set = test_dataset, early_stopping_rounds = 300, use_best_model = True)"
      ],
      "metadata": {
        "trusted": true,
        "execution": {
          "iopub.status.busy": "2024-12-13T08:20:13.164776Z",
          "iopub.execute_input": "2024-12-13T08:20:13.165178Z",
          "iopub.status.idle": "2024-12-13T08:20:21.915393Z",
          "shell.execute_reply.started": "2024-12-13T08:20:13.165143Z",
          "shell.execute_reply": "2024-12-13T08:20:21.914484Z"
        },
        "id": "QDnN2zaBBxiv",
        "outputId": "5d0e3296-3a8b-4291-dcfd-4ac5f7c98c4b",
        "colab": {
          "base_uri": "https://localhost:8080/"
        }
      },
      "outputs": [
        {
          "output_type": "stream",
          "name": "stdout",
          "text": [
            "0:\tlearn: 12104528.9861305\ttest: 12549463.6061392\tbest: 12549463.6061392 (0)\ttotal: 73ms\tremaining: 36m 29s\n",
            "300:\tlearn: 9148719.5594899\ttest: 10194882.6968294\tbest: 10194882.6968294 (300)\ttotal: 4.1s\tremaining: 6m 44s\n",
            "600:\tlearn: 8756918.2946981\ttest: 10129388.1970838\tbest: 10129388.1970838 (600)\ttotal: 9.5s\tremaining: 7m 44s\n",
            "900:\tlearn: 8500138.5849840\ttest: 10067557.5817695\tbest: 10067324.0706592 (891)\ttotal: 17.7s\tremaining: 9m 33s\n",
            "1200:\tlearn: 8248876.4442387\ttest: 10019179.6083774\tbest: 10018929.5627055 (1150)\ttotal: 24.2s\tremaining: 9m 40s\n",
            "Stopped by overfitting detector  (300 iterations wait)\n",
            "\n",
            "bestTest = 10018929.56\n",
            "bestIteration = 1150\n",
            "\n",
            "Shrink model to first 1151 iterations.\n"
          ]
        },
        {
          "output_type": "execute_result",
          "data": {
            "text/plain": [
              "<catboost.core.CatBoostRegressor at 0x7c18b5887100>"
            ]
          },
          "metadata": {},
          "execution_count": 22
        }
      ],
      "execution_count": 22
    },
    {
      "cell_type": "code",
      "source": [
        "testc = cmod.predict(X_test)\n",
        "mean_absolute_error(y_test, testc)"
      ],
      "metadata": {
        "trusted": true,
        "execution": {
          "iopub.status.busy": "2024-12-13T08:26:01.778914Z",
          "iopub.execute_input": "2024-12-13T08:26:01.779325Z",
          "iopub.status.idle": "2024-12-13T08:26:01.794782Z",
          "shell.execute_reply.started": "2024-12-13T08:26:01.779292Z",
          "shell.execute_reply": "2024-12-13T08:26:01.793773Z"
        },
        "id": "QkPgRZocBxiv",
        "outputId": "b8d2367b-c1a9-446b-d2a2-a9cab08b1425",
        "colab": {
          "base_uri": "https://localhost:8080/"
        }
      },
      "outputs": [
        {
          "output_type": "execute_result",
          "data": {
            "text/plain": [
              "5170256.566188831"
            ]
          },
          "metadata": {},
          "execution_count": 23
        }
      ],
      "execution_count": 23
    },
    {
      "cell_type": "code",
      "source": [
        "mainc = cmod.predict(test[X_test.columns].fillna(''))"
      ],
      "metadata": {
        "trusted": true,
        "execution": {
          "iopub.status.busy": "2024-12-13T08:27:54.496175Z",
          "iopub.execute_input": "2024-12-13T08:27:54.497083Z",
          "iopub.status.idle": "2024-12-13T08:27:54.52274Z",
          "shell.execute_reply.started": "2024-12-13T08:27:54.497047Z",
          "shell.execute_reply": "2024-12-13T08:27:54.521657Z"
        },
        "id": "6hMklNZ1Bxiv"
      },
      "outputs": [],
      "execution_count": 24
    },
    {
      "cell_type": "code",
      "source": [
        "ss['total_cost'] = mainc"
      ],
      "metadata": {
        "trusted": true,
        "execution": {
          "iopub.status.busy": "2024-12-13T08:28:23.223125Z",
          "iopub.execute_input": "2024-12-13T08:28:23.223521Z",
          "iopub.status.idle": "2024-12-13T08:28:23.228206Z",
          "shell.execute_reply.started": "2024-12-13T08:28:23.223481Z",
          "shell.execute_reply": "2024-12-13T08:28:23.227308Z"
        },
        "id": "HNOY1vcNBxiv"
      },
      "outputs": [],
      "execution_count": 25
    },
    {
      "cell_type": "code",
      "source": [
        "ss.to_csv(PATH + 'base.csv', index=False)"
      ],
      "metadata": {
        "trusted": true,
        "execution": {
          "iopub.status.busy": "2024-12-13T08:28:29.491483Z",
          "iopub.execute_input": "2024-12-13T08:28:29.491934Z",
          "iopub.status.idle": "2024-12-13T08:28:29.504868Z",
          "shell.execute_reply.started": "2024-12-13T08:28:29.491898Z",
          "shell.execute_reply": "2024-12-13T08:28:29.503739Z"
        },
        "id": "j3c3305gBxiv"
      },
      "outputs": [],
      "execution_count": 28
    },
    {
      "cell_type": "code",
      "source": [],
      "metadata": {
        "id": "pfPWAMDtIh_X"
      },
      "execution_count": 26,
      "outputs": []
    }
  ]
}